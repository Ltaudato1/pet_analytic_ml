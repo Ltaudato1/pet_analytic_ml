{
 "cells": [
  {
   "cell_type": "markdown",
   "id": "4b4e9919",
   "metadata": {},
   "source": [
    "# A/B тест на трёх вариантах"
   ]
  },
  {
   "cell_type": "markdown",
   "id": "94caea5c",
   "metadata": {},
   "source": [
    "В данном исследовании предстоит определить, какой из трёх вариантов маркетинговой кампании для нового продукта фаст-фуд компании работает наиболее эффективно"
   ]
  },
  {
   "cell_type": "markdown",
   "id": "ff43e059",
   "metadata": {},
   "source": [
    "## Подготовка данных"
   ]
  },
  {
   "cell_type": "code",
   "execution_count": 93,
   "id": "d88fefa4",
   "metadata": {},
   "outputs": [],
   "source": [
    "import numpy as np\n",
    "import pandas as pd\n",
    "import matplotlib.pyplot as plt\n",
    "from scipy import stats"
   ]
  },
  {
   "cell_type": "code",
   "execution_count": 94,
   "id": "06df0363",
   "metadata": {},
   "outputs": [
    {
     "data": {
      "text/html": [
       "<div>\n",
       "<style scoped>\n",
       "    .dataframe tbody tr th:only-of-type {\n",
       "        vertical-align: middle;\n",
       "    }\n",
       "\n",
       "    .dataframe tbody tr th {\n",
       "        vertical-align: top;\n",
       "    }\n",
       "\n",
       "    .dataframe thead th {\n",
       "        text-align: right;\n",
       "    }\n",
       "</style>\n",
       "<table border=\"1\" class=\"dataframe\">\n",
       "  <thead>\n",
       "    <tr style=\"text-align: right;\">\n",
       "      <th></th>\n",
       "      <th>MarketID</th>\n",
       "      <th>MarketSize</th>\n",
       "      <th>LocationID</th>\n",
       "      <th>AgeOfStore</th>\n",
       "      <th>Promotion</th>\n",
       "      <th>week</th>\n",
       "      <th>SalesInThousands</th>\n",
       "    </tr>\n",
       "  </thead>\n",
       "  <tbody>\n",
       "    <tr>\n",
       "      <th>0</th>\n",
       "      <td>1</td>\n",
       "      <td>Medium</td>\n",
       "      <td>1</td>\n",
       "      <td>4</td>\n",
       "      <td>3</td>\n",
       "      <td>1</td>\n",
       "      <td>33.73</td>\n",
       "    </tr>\n",
       "    <tr>\n",
       "      <th>1</th>\n",
       "      <td>1</td>\n",
       "      <td>Medium</td>\n",
       "      <td>1</td>\n",
       "      <td>4</td>\n",
       "      <td>3</td>\n",
       "      <td>2</td>\n",
       "      <td>35.67</td>\n",
       "    </tr>\n",
       "    <tr>\n",
       "      <th>2</th>\n",
       "      <td>1</td>\n",
       "      <td>Medium</td>\n",
       "      <td>1</td>\n",
       "      <td>4</td>\n",
       "      <td>3</td>\n",
       "      <td>3</td>\n",
       "      <td>29.03</td>\n",
       "    </tr>\n",
       "    <tr>\n",
       "      <th>3</th>\n",
       "      <td>1</td>\n",
       "      <td>Medium</td>\n",
       "      <td>1</td>\n",
       "      <td>4</td>\n",
       "      <td>3</td>\n",
       "      <td>4</td>\n",
       "      <td>39.25</td>\n",
       "    </tr>\n",
       "    <tr>\n",
       "      <th>4</th>\n",
       "      <td>1</td>\n",
       "      <td>Medium</td>\n",
       "      <td>2</td>\n",
       "      <td>5</td>\n",
       "      <td>2</td>\n",
       "      <td>1</td>\n",
       "      <td>27.81</td>\n",
       "    </tr>\n",
       "  </tbody>\n",
       "</table>\n",
       "</div>"
      ],
      "text/plain": [
       "   MarketID MarketSize  LocationID  AgeOfStore  Promotion  week  \\\n",
       "0         1     Medium           1           4          3     1   \n",
       "1         1     Medium           1           4          3     2   \n",
       "2         1     Medium           1           4          3     3   \n",
       "3         1     Medium           1           4          3     4   \n",
       "4         1     Medium           2           5          2     1   \n",
       "\n",
       "   SalesInThousands  \n",
       "0             33.73  \n",
       "1             35.67  \n",
       "2             29.03  \n",
       "3             39.25  \n",
       "4             27.81  "
      ]
     },
     "execution_count": 94,
     "metadata": {},
     "output_type": "execute_result"
    }
   ],
   "source": [
    "data = pd.read_csv('WA_Marketing-Campaign.csv')\n",
    "data = data.drop_duplicates()\n",
    "data = data.dropna()\n",
    "data.head()"
   ]
  },
  {
   "cell_type": "code",
   "execution_count": 95,
   "id": "9217cb7e",
   "metadata": {},
   "outputs": [
    {
     "name": "stdout",
     "output_type": "stream",
     "text": [
      "<class 'pandas.core.frame.DataFrame'>\n",
      "RangeIndex: 548 entries, 0 to 547\n",
      "Data columns (total 7 columns):\n",
      " #   Column            Non-Null Count  Dtype   \n",
      "---  ------            --------------  -----   \n",
      " 0   MarketID          548 non-null    category\n",
      " 1   MarketSize        548 non-null    object  \n",
      " 2   LocationID        548 non-null    category\n",
      " 3   AgeOfStore        548 non-null    int64   \n",
      " 4   Promotion         548 non-null    category\n",
      " 5   week              548 non-null    category\n",
      " 6   SalesInThousands  548 non-null    float64 \n",
      "dtypes: category(4), float64(1), int64(1), object(1)\n",
      "memory usage: 21.5+ KB\n"
     ]
    }
   ],
   "source": [
    "data['MarketID'] = data['MarketID'].astype('category')\n",
    "data['LocationID'] = data['LocationID'].astype('category')\n",
    "data['Promotion'] = data['Promotion'] .astype('category')\n",
    "data['week'] = data['week'] .astype('category')\n",
    "\n",
    "data.info()"
   ]
  },
  {
   "cell_type": "markdown",
   "id": "c35788b8",
   "metadata": {},
   "source": [
    "## Проверка рандомизации распределения"
   ]
  },
  {
   "cell_type": "markdown",
   "id": "57b94031",
   "metadata": {},
   "source": [
    "Для корректного A/B теста нам необходимо проверить, что данные в трех группах (Promotion = 1, 2, 3) равномерно распределены по остальным двум признакам: MarketSize и AgeOfStore."
   ]
  },
  {
   "cell_type": "markdown",
   "id": "a9bf55f5",
   "metadata": {},
   "source": [
    "### Проведение тестов"
   ]
  },
  {
   "cell_type": "code",
   "execution_count": 96,
   "id": "4388b7dd",
   "metadata": {},
   "outputs": [
    {
     "name": "stdout",
     "output_type": "stream",
     "text": [
      "Chi-square test для MarketSize vs Promotion: chi2=4.754, p-value=0.313\n",
      "Нет статистически значимой зависимости между MarketSize и Promotion\n"
     ]
    }
   ],
   "source": [
    "age_summary = data.groupby('Promotion', observed=True)['AgeOfStore'].agg(['mean', 'std']).round(2)\n",
    "\n",
    "ms_contingency = pd.crosstab(data['Promotion'], data['MarketSize'])\n",
    "\n",
    "chi2, p_chi, dof, expected = stats.chi2_contingency(ms_contingency)\n",
    "print(f\"Chi-square test для MarketSize vs Promotion: chi2={chi2:.3f}, p-value={p_chi:.3f}\")\n",
    "if p_chi > 0.05:\n",
    "    print(\"Нет статистически значимой зависимости между MarketSize и Promotion\")\n",
    "else:\n",
    "    print(\"Есть статистически значимая зависимость между MarketSize и Promotion\")"
   ]
  },
  {
   "cell_type": "code",
   "execution_count": 97,
   "id": "d742c4cd",
   "metadata": {},
   "outputs": [
    {
     "name": "stdout",
     "output_type": "stream",
     "text": [
      "Levene test для AgeOfStore: W=0.071, p-value=0.932\n",
      "Дисперсии равны\n"
     ]
    }
   ],
   "source": [
    "proms = sorted(data['Promotion'].unique())\n",
    "age_groups = [data.loc[data['Promotion'] == p, 'AgeOfStore'] for p in proms]\n",
    "\n",
    "lev = stats.levene(*age_groups)\n",
    "print(f\"Levene test для AgeOfStore: W={lev.statistic:.3f}, p-value={lev.pvalue:.3f}\")\n",
    "if lev.pvalue < 0.05:\n",
    "    print(\"Дисперсии не равны\")\n",
    "else:\n",
    "    print(\"Дисперсии равны\")"
   ]
  },
  {
   "cell_type": "code",
   "execution_count": 98,
   "id": "61eb8b5f",
   "metadata": {},
   "outputs": [
    {
     "name": "stdout",
     "output_type": "stream",
     "text": [
      "ANOVA для AgeOfStore: F=1.830, p-value=0.161\n",
      "Нет статистически значимой зависимости между AgeOfStore и Promotion\n"
     ]
    }
   ],
   "source": [
    "anova = stats.f_oneway(*age_groups)\n",
    "print(f\"ANOVA для AgeOfStore: F={anova.statistic:.3f}, p-value={anova.pvalue:.3f}\")\n",
    "if anova.pvalue < 0.05:\n",
    "    print(\"Есть статистически значимая зависимость между AgeOfStore и Promotion\")\n",
    "else:\n",
    "    print(\"Нет статистически значимой зависимости между AgeOfStore и Promotion\")"
   ]
  },
  {
   "cell_type": "markdown",
   "id": "28275f62",
   "metadata": {},
   "source": [
    "### Визуализация распределения"
   ]
  },
  {
   "cell_type": "code",
   "execution_count": 99,
   "id": "a370b101",
   "metadata": {},
   "outputs": [
    {
     "data": {
      "text/plain": [
       "<Figure size 432x288 with 0 Axes>"
      ]
     },
     "metadata": {},
     "output_type": "display_data"
    },
    {
     "data": {
      "image/png": "[encoded data removed]",
      "text/plain": [
       "<Figure size 432x288 with 1 Axes>"
      ]
     },
     "metadata": {
      "needs_background": "light"
     },
     "output_type": "display_data"
    }
   ],
   "source": [
    "plt.figure()\n",
    "data.boxplot(column='AgeOfStore', by='Promotion')\n",
    "plt.title('Распределение AgeOfStore по Promotion')\n",
    "plt.suptitle('')\n",
    "plt.ylabel('AgeOfStore')\n",
    "plt.show()"
   ]
  },
  {
   "cell_type": "code",
   "execution_count": 100,
   "id": "1d326b0b",
   "metadata": {},
   "outputs": [
    {
     "data": {
      "text/plain": [
       "<Figure size 432x288 with 0 Axes>"
      ]
     },
     "metadata": {},
     "output_type": "display_data"
    },
    {
     "data": {
      "image/png": "[encoded data removed]",
      "text/plain": [
       "<Figure size 432x288 with 1 Axes>"
      ]
     },
     "metadata": {
      "needs_background": "light"
     },
     "output_type": "display_data"
    }
   ],
   "source": [
    "plt.figure()\n",
    "ms_contingency.plot(kind='bar')\n",
    "plt.title('Распределение MarketSize по Promotion')\n",
    "plt.ylabel('Количество')\n",
    "plt.show()"
   ]
  },
  {
   "cell_type": "code",
   "execution_count": 101,
   "id": "2847d7b1",
   "metadata": {},
   "outputs": [
    {
     "data": {
      "text/plain": [
       "<Figure size 432x288 with 0 Axes>"
      ]
     },
     "metadata": {},
     "output_type": "display_data"
    },
    {
     "data": {
      "image/png": "[encoded data removed]",
      "text/plain": [
       "<Figure size 432x288 with 1 Axes>"
      ]
     },
     "metadata": {
      "needs_background": "light"
     },
     "output_type": "display_data"
    }
   ],
   "source": [
    "plt.figure()\n",
    "data.boxplot(column='SalesInThousands', by='week')\n",
    "plt.title('Распределение продаж по неделям')\n",
    "plt.ylabel('Количество')\n",
    "plt.show()"
   ]
  },
  {
   "cell_type": "markdown",
   "id": "35643149",
   "metadata": {},
   "source": [
    "Вывод: данные распределены равномерно"
   ]
  },
  {
   "cell_type": "markdown",
   "id": "bc1b4fad",
   "metadata": {},
   "source": [
    "## Проведение статистических тестов"
   ]
  },
  {
   "cell_type": "markdown",
   "id": "535d48ef",
   "metadata": {},
   "source": [
    "Для того, чтобы выяснить, какой способ продвижения наиболее эффективен, выберем ANOVA-тест, для которого необходимы следующие условия на датасет:"
   ]
  },
  {
   "cell_type": "markdown",
   "id": "5c44471c",
   "metadata": {},
   "source": [
    "- Наблюдения независимы\n",
    "- Дисперсии равны\n",
    "- Данные распределены нормально внутри групп"
   ]
  },
  {
   "cell_type": "markdown",
   "id": "c1e2f393",
   "metadata": {},
   "source": [
    "1-ый пункт проверен выше"
   ]
  },
  {
   "cell_type": "markdown",
   "id": "96703b25",
   "metadata": {},
   "source": [
    "### Тест Левена для проверки равенства дисперсии"
   ]
  },
  {
   "cell_type": "code",
   "execution_count": 102,
   "id": "59fc1810",
   "metadata": {},
   "outputs": [
    {
     "name": "stdout",
     "output_type": "stream",
     "text": [
      "Levene test для SalesInThousands: W=1.270, p-value=0.282\n",
      "Дисперсии равны\n"
     ]
    }
   ],
   "source": [
    "groups = [data.loc[data['Promotion'] == p, 'SalesInThousands'] for p in sorted(data.Promotion.unique())]\n",
    "lev_stats, lev_p = stats.levene(*groups)\n",
    "print(f\"Levene test для SalesInThousands: W={lev_stats:.3f}, p-value={lev_p:.3f}\")\n",
    "if lev_p < 0.05:\n",
    "    print(\"Дисперсии не равны\")\n",
    "else:\n",
    "    print(\"Дисперсии равны\")"
   ]
  },
  {
   "cell_type": "markdown",
   "id": "6872b096",
   "metadata": {},
   "source": [
    "### Тест Шапиро-Уилка для проверки нормальности распределения"
   ]
  },
  {
   "cell_type": "code",
   "execution_count": 103,
   "id": "dbc4e54d",
   "metadata": {},
   "outputs": [
    {
     "data": {
      "text/html": [
       "<div>\n",
       "<style scoped>\n",
       "    .dataframe tbody tr th:only-of-type {\n",
       "        vertical-align: middle;\n",
       "    }\n",
       "\n",
       "    .dataframe tbody tr th {\n",
       "        vertical-align: top;\n",
       "    }\n",
       "\n",
       "    .dataframe thead th {\n",
       "        text-align: right;\n",
       "    }\n",
       "</style>\n",
       "<table border=\"1\" class=\"dataframe\">\n",
       "  <thead>\n",
       "    <tr style=\"text-align: right;\">\n",
       "      <th></th>\n",
       "      <th>W</th>\n",
       "      <th>p-value</th>\n",
       "    </tr>\n",
       "  </thead>\n",
       "  <tbody>\n",
       "    <tr>\n",
       "      <th>1</th>\n",
       "      <td>0.915300</td>\n",
       "      <td>1.977265e-08</td>\n",
       "    </tr>\n",
       "    <tr>\n",
       "      <th>2</th>\n",
       "      <td>0.914510</td>\n",
       "      <td>5.457100e-09</td>\n",
       "    </tr>\n",
       "    <tr>\n",
       "      <th>3</th>\n",
       "      <td>0.920768</td>\n",
       "      <td>1.499466e-08</td>\n",
       "    </tr>\n",
       "  </tbody>\n",
       "</table>\n",
       "</div>"
      ],
      "text/plain": [
       "          W       p-value\n",
       "1  0.915300  1.977265e-08\n",
       "2  0.914510  5.457100e-09\n",
       "3  0.920768  1.499466e-08"
      ]
     },
     "execution_count": 103,
     "metadata": {},
     "output_type": "execute_result"
    }
   ],
   "source": [
    "shapiro_results = pd.DataFrame({p: stats.shapiro(g) for p, g in zip(sorted(data.Promotion.unique()), groups)}).T\n",
    "shapiro_results.columns = ['W', 'p-value']\n",
    "shapiro_results"
   ]
  },
  {
   "cell_type": "markdown",
   "id": "e02065dd",
   "metadata": {},
   "source": [
    "Видно, что данные во всех группах распределены не нормально, поэтому от ANOVA придётся отказаться, вместо этого применим бутстрап"
   ]
  },
  {
   "cell_type": "markdown",
   "id": "22210e7f",
   "metadata": {},
   "source": [
    "### Проверка различий в трёх группах с помощью бутстрапа"
   ]
  },
  {
   "cell_type": "code",
   "execution_count": 104,
   "id": "2b9580c7",
   "metadata": {},
   "outputs": [
    {
     "name": "stdout",
     "output_type": "stream",
     "text": [
      "   Promotion       mean   ci_lower   ci_upper\n",
      "0          1  58.083969  55.670747  60.621958\n",
      "1          2  47.321605  45.173273  49.553581\n",
      "2          3  55.356981  53.038512  57.729972\n"
     ]
    }
   ],
   "source": [
    "n_bootstraps = 10000\n",
    "results = []\n",
    "\n",
    "for promo, group_df in data.groupby('Promotion', observed=True):\n",
    "    sales = group_df['SalesInThousands'].values\n",
    "    stats = []\n",
    "    for _ in range(n_bootstraps):\n",
    "        sample = np.random.choice(sales, size=len(sales), replace=True)\n",
    "        stats.append(np.mean(sample))\n",
    "    stats = np.array(stats)\n",
    "\n",
    "    results.append({\n",
    "        'Promotion': promo,\n",
    "        'mean': stats.mean(),\n",
    "        'ci_lower': np.percentile(stats, 2.5),\n",
    "        'ci_upper': np.percentile(stats, 97.5)\n",
    "    })\n",
    "\n",
    "results_df = pd.DataFrame(results)\n",
    "print(results_df)"
   ]
  },
  {
   "cell_type": "markdown",
   "id": "19b83bff",
   "metadata": {},
   "source": [
    "Мы видим, что доверительные интервалы пересекаются для Promotion = 1, 3. При этом для Promotion = 2 доверительный интервал левее остальных двух, поэтому этот способ продвижения можно сразу отбросить"
   ]
  },
  {
   "cell_type": "markdown",
   "id": "4237405e",
   "metadata": {},
   "source": [
    "### Бутстрап для сравнения 1 и 3 групп"
   ]
  },
  {
   "cell_type": "code",
   "execution_count": 105,
   "id": "2778d0b2",
   "metadata": {},
   "outputs": [
    {
     "name": "stdout",
     "output_type": "stream",
     "text": [
      "Наблюдаемая разница: 2.735\n",
      "95% CI: (-0.674, 6.223)\n",
      "p-value: 0.501\n"
     ]
    },
    {
     "data": {
      "image/png": "[encoded data removed]",
      "text/plain": [
       "<Figure size 576x360 with 1 Axes>"
      ]
     },
     "metadata": {
      "needs_background": "light"
     },
     "output_type": "display_data"
    }
   ],
   "source": [
    "group_a = 1\n",
    "group_b = 2\n",
    "rng = np.random.default_rng(42)\n",
    "\n",
    "x = data.loc[data['Promotion'] == 1, 'SalesInThousands'].values\n",
    "y = data.loc[data['Promotion'] == 3, 'SalesInThousands'].values\n",
    "\n",
    "obs_diff = np.mean(x) - np.mean(y)\n",
    "diffs = np.array([\n",
    "    rng.choice(x, size=len(x), replace=True).mean() -\n",
    "    rng.choice(y, size=len(y), replace=True).mean()\n",
    "    for _ in range(n_bootstraps)\n",
    "])\n",
    "ci_lower, ci_upper = np.percentile(diffs, [2.5, 97.5])\n",
    "p_val = np.mean(np.abs(diffs) >= np.abs(obs_diff))\n",
    "\n",
    "print(f\"Наблюдаемая разница: {obs_diff:.3f}\")\n",
    "print(f\"95% CI: ({ci_lower:.3f}, {ci_upper:.3f})\")\n",
    "print(f\"p-value: {p_val:.3f}\")\n",
    "\n",
    "plt.figure(figsize=(8, 5))\n",
    "plt.hist(diffs, bins=50, color='skyblue', edgecolor='black')\n",
    "plt.axvline(0, color='red', linestyle='--', label='0')\n",
    "plt.axvline(obs_diff, color='green', linestyle='-', label='Observed diff')\n",
    "plt.axvline(ci_lower, color='orange', linestyle='--', label='95% CI lower')\n",
    "plt.axvline(ci_upper, color='orange', linestyle='--', label='95% CI upper')\n",
    "plt.title(f\"Bootstrap distribution of mean difference\\nGroup {group_a} - Group {group_b}\")\n",
    "plt.xlabel(\"Difference in means\")\n",
    "plt.ylabel(\"Frequency\")\n",
    "plt.legend()\n",
    "plt.show()"
   ]
  },
  {
   "cell_type": "markdown",
   "id": "5d276064",
   "metadata": {},
   "source": [
    "Вывод: нет статистической разницы между Promotion = 1 и Promotion = 3"
   ]
  },
  {
   "cell_type": "markdown",
   "id": "6b170cbd",
   "metadata": {},
   "source": [
    "Рекомендуется отказаться от способа продвижения Promotion = 2 и выбрать наименее дорогостоящий из Promotion = 1, 3"
   ]
  },
  {
   "cell_type": "markdown",
   "id": "89a90108",
   "metadata": {},
   "source": [
    "## "
   ]
  }
 ],
 "metadata": {
  "kernelspec": {
   "display_name": "Python 3",
   "language": "python",
   "name": "python3"
  },
  "language_info": {
   "codemirror_mode": {
    "name": "ipython",
    "version": 3
   },
   "file_extension": ".py",
   "mimetype": "text/x-python",
   "name": "python",
   "nbconvert_exporter": "python",
   "pygments_lexer": "ipython3",
   "version": "3.10.12"
  }
 },
 "nbformat": 4,
 "nbformat_minor": 5
}
